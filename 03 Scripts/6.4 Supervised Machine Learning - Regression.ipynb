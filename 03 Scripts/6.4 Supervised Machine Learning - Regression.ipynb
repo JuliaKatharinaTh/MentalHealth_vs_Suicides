{
 "cells": [
  {
   "cell_type": "markdown",
   "id": "8d56e5e2-ba0e-4f46-819d-b3ee3d31d5d4",
   "metadata": {},
   "source": [
    "# 6.4 Supervised Machine Learning - Regression"
   ]
  },
  {
   "cell_type": "markdown",
   "id": "11598529-da4c-4770-9f27-112a89d7c0f5",
   "metadata": {},
   "source": [
    "## 1. Import libraries and data sets"
   ]
  },
  {
   "cell_type": "code",
   "execution_count": 1,
   "id": "0d95c6bb-686d-482c-8e66-d3e9c738bc95",
   "metadata": {},
   "outputs": [],
   "source": [
    "# Import libraries\n",
    "import pandas as pd\n",
    "import numpy as np\n",
    "import seaborn as sns\n",
    "import matplotlib\n",
    "import matplotlib.pyplot as plt\n",
    "import os\n",
    "import sklearn\n",
    "from sklearn.model_selection import train_test_split \n",
    "from sklearn.linear_model import LinearRegression\n",
    "from sklearn.metrics import mean_squared_error, r2_score"
   ]
  },
  {
   "cell_type": "code",
   "execution_count": 3,
   "id": "5fdb8941-b933-4bbe-851a-4d31b687d912",
   "metadata": {},
   "outputs": [],
   "source": [
    "path = r'C:\\Users\\julia\\anaconda3\\Mental Health Service Ability vs Suicides'"
   ]
  },
  {
   "cell_type": "code",
   "execution_count": 4,
   "id": "72b9397c-31c9-4fde-b89c-e1c39aee8dfa",
   "metadata": {},
   "outputs": [],
   "source": [
    "df_merge = pd.read_pickle(os.path.join(path, '02 Data', 'Prepared Data', 'mh_s_combined.pkl'))"
   ]
  },
  {
   "cell_type": "markdown",
   "id": "7da7dc64-7132-4a14-a053-865479dfd71e",
   "metadata": {},
   "source": [
    "## 2. Graph recognition"
   ]
  },
  {
   "cell_type": "code",
   "execution_count": 2,
   "id": "d975af53-6505-47c3-82c0-a3c4b10a2200",
   "metadata": {},
   "outputs": [],
   "source": [
    "# This option ensures that the graphs you create are displayed within the notebook without the need to \"call\" them specifically.\n",
    "%matplotlib inline"
   ]
  },
  {
   "cell_type": "markdown",
   "id": "d208379e-3535-46b8-b292-f0e890f7f539",
   "metadata": {},
   "source": [
    "## 3. Data Cleaning"
   ]
  },
  {
   "cell_type": "code",
   "execution_count": 5,
   "id": "a03fa5a9-28dc-4d01-96af-a2c0e881f724",
   "metadata": {},
   "outputs": [
    {
     "data": {
      "text/plain": [
       "Index(['Id', 'Title Code', 'Title', 'Country', 'Year_x', 'Value_x',\n",
       "       'Data Collection Date_x', 'Title Code Suicide', 'Suicide rates',\n",
       "       'Location', 'Year_y', 'Gender', 'Value_y', 'Data Collection Date_y',\n",
       "       '_merge'],\n",
       "      dtype='object')"
      ]
     },
     "execution_count": 5,
     "metadata": {},
     "output_type": "execute_result"
    }
   ],
   "source": [
    "df_merge.columns"
   ]
  },
  {
   "cell_type": "code",
   "execution_count": 6,
   "id": "47485ef2-d6a3-43e9-b9d4-de6069ac900f",
   "metadata": {},
   "outputs": [
    {
     "data": {
      "text/html": [
       "<div>\n",
       "<style scoped>\n",
       "    .dataframe tbody tr th:only-of-type {\n",
       "        vertical-align: middle;\n",
       "    }\n",
       "\n",
       "    .dataframe tbody tr th {\n",
       "        vertical-align: top;\n",
       "    }\n",
       "\n",
       "    .dataframe thead th {\n",
       "        text-align: right;\n",
       "    }\n",
       "</style>\n",
       "<table border=\"1\" class=\"dataframe\">\n",
       "  <thead>\n",
       "    <tr style=\"text-align: right;\">\n",
       "      <th></th>\n",
       "      <th>Id</th>\n",
       "      <th>Title Code</th>\n",
       "      <th>Title</th>\n",
       "      <th>Country</th>\n",
       "      <th>Year_x</th>\n",
       "      <th>Value_x</th>\n",
       "      <th>Data Collection Date_x</th>\n",
       "      <th>Title Code Suicide</th>\n",
       "      <th>Suicide rates</th>\n",
       "      <th>Location</th>\n",
       "      <th>Year_y</th>\n",
       "      <th>Gender</th>\n",
       "      <th>Value_y</th>\n",
       "      <th>Data Collection Date_y</th>\n",
       "      <th>_merge</th>\n",
       "    </tr>\n",
       "  </thead>\n",
       "  <tbody>\n",
       "    <tr>\n",
       "      <th>0</th>\n",
       "      <td>20738925</td>\n",
       "      <td>MH_6</td>\n",
       "      <td>Psychiatrists working in mental health sector ...</td>\n",
       "      <td>AFG</td>\n",
       "      <td>2016</td>\n",
       "      <td>0.231</td>\n",
       "      <td>2019-04-25T15:31:58Z</td>\n",
       "      <td>MH_12</td>\n",
       "      <td>Age-standardized suicide rates (per 100 000 po...</td>\n",
       "      <td>Afghanistan</td>\n",
       "      <td>2019</td>\n",
       "      <td>Female</td>\n",
       "      <td>5.67</td>\n",
       "      <td>2021-02-08T23:00:00.000Z</td>\n",
       "      <td>both</td>\n",
       "    </tr>\n",
       "    <tr>\n",
       "      <th>1</th>\n",
       "      <td>20738925</td>\n",
       "      <td>MH_6</td>\n",
       "      <td>Psychiatrists working in mental health sector ...</td>\n",
       "      <td>AFG</td>\n",
       "      <td>2016</td>\n",
       "      <td>0.231</td>\n",
       "      <td>2019-04-25T15:31:58Z</td>\n",
       "      <td>MH_12</td>\n",
       "      <td>Age-standardized suicide rates (per 100 000 po...</td>\n",
       "      <td>Afghanistan</td>\n",
       "      <td>2019</td>\n",
       "      <td>Both sexes</td>\n",
       "      <td>5.96</td>\n",
       "      <td>2021-02-08T23:00:00.000Z</td>\n",
       "      <td>both</td>\n",
       "    </tr>\n",
       "    <tr>\n",
       "      <th>2</th>\n",
       "      <td>20738925</td>\n",
       "      <td>MH_6</td>\n",
       "      <td>Psychiatrists working in mental health sector ...</td>\n",
       "      <td>AFG</td>\n",
       "      <td>2016</td>\n",
       "      <td>0.231</td>\n",
       "      <td>2019-04-25T15:31:58Z</td>\n",
       "      <td>MH_12</td>\n",
       "      <td>Age-standardized suicide rates (per 100 000 po...</td>\n",
       "      <td>Afghanistan</td>\n",
       "      <td>2019</td>\n",
       "      <td>Male</td>\n",
       "      <td>6.19</td>\n",
       "      <td>2021-02-08T23:00:00.000Z</td>\n",
       "      <td>both</td>\n",
       "    </tr>\n",
       "    <tr>\n",
       "      <th>3</th>\n",
       "      <td>20738925</td>\n",
       "      <td>MH_6</td>\n",
       "      <td>Psychiatrists working in mental health sector ...</td>\n",
       "      <td>AFG</td>\n",
       "      <td>2016</td>\n",
       "      <td>0.231</td>\n",
       "      <td>2019-04-25T15:31:58Z</td>\n",
       "      <td>MH_12</td>\n",
       "      <td>Age-standardized suicide rates (per 100 000 po...</td>\n",
       "      <td>Afghanistan</td>\n",
       "      <td>2018</td>\n",
       "      <td>Female</td>\n",
       "      <td>5.57</td>\n",
       "      <td>2021-02-08T23:00:00.000Z</td>\n",
       "      <td>both</td>\n",
       "    </tr>\n",
       "    <tr>\n",
       "      <th>4</th>\n",
       "      <td>20738925</td>\n",
       "      <td>MH_6</td>\n",
       "      <td>Psychiatrists working in mental health sector ...</td>\n",
       "      <td>AFG</td>\n",
       "      <td>2016</td>\n",
       "      <td>0.231</td>\n",
       "      <td>2019-04-25T15:31:58Z</td>\n",
       "      <td>MH_12</td>\n",
       "      <td>Age-standardized suicide rates (per 100 000 po...</td>\n",
       "      <td>Afghanistan</td>\n",
       "      <td>2018</td>\n",
       "      <td>Both sexes</td>\n",
       "      <td>5.91</td>\n",
       "      <td>2021-02-08T23:00:00.000Z</td>\n",
       "      <td>both</td>\n",
       "    </tr>\n",
       "  </tbody>\n",
       "</table>\n",
       "</div>"
      ],
      "text/plain": [
       "         Id Title Code                                              Title  \\\n",
       "0  20738925       MH_6  Psychiatrists working in mental health sector ...   \n",
       "1  20738925       MH_6  Psychiatrists working in mental health sector ...   \n",
       "2  20738925       MH_6  Psychiatrists working in mental health sector ...   \n",
       "3  20738925       MH_6  Psychiatrists working in mental health sector ...   \n",
       "4  20738925       MH_6  Psychiatrists working in mental health sector ...   \n",
       "\n",
       "  Country  Year_x  Value_x Data Collection Date_x Title Code Suicide  \\\n",
       "0     AFG    2016    0.231   2019-04-25T15:31:58Z              MH_12   \n",
       "1     AFG    2016    0.231   2019-04-25T15:31:58Z              MH_12   \n",
       "2     AFG    2016    0.231   2019-04-25T15:31:58Z              MH_12   \n",
       "3     AFG    2016    0.231   2019-04-25T15:31:58Z              MH_12   \n",
       "4     AFG    2016    0.231   2019-04-25T15:31:58Z              MH_12   \n",
       "\n",
       "                                       Suicide rates     Location  Year_y  \\\n",
       "0  Age-standardized suicide rates (per 100 000 po...  Afghanistan    2019   \n",
       "1  Age-standardized suicide rates (per 100 000 po...  Afghanistan    2019   \n",
       "2  Age-standardized suicide rates (per 100 000 po...  Afghanistan    2019   \n",
       "3  Age-standardized suicide rates (per 100 000 po...  Afghanistan    2018   \n",
       "4  Age-standardized suicide rates (per 100 000 po...  Afghanistan    2018   \n",
       "\n",
       "       Gender  Value_y    Data Collection Date_y _merge  \n",
       "0      Female     5.67  2021-02-08T23:00:00.000Z   both  \n",
       "1  Both sexes     5.96  2021-02-08T23:00:00.000Z   both  \n",
       "2        Male     6.19  2021-02-08T23:00:00.000Z   both  \n",
       "3      Female     5.57  2021-02-08T23:00:00.000Z   both  \n",
       "4  Both sexes     5.91  2021-02-08T23:00:00.000Z   both  "
      ]
     },
     "execution_count": 6,
     "metadata": {},
     "output_type": "execute_result"
    }
   ],
   "source": [
    "df_merge.head()"
   ]
  },
  {
   "cell_type": "code",
   "execution_count": 7,
   "id": "9fc9647f-dafa-4898-8c5c-4c2eb6ebf99b",
   "metadata": {},
   "outputs": [
    {
     "data": {
      "text/plain": [
       "(97320, 15)"
      ]
     },
     "execution_count": 7,
     "metadata": {},
     "output_type": "execute_result"
    }
   ],
   "source": [
    "df_merge.shape"
   ]
  },
  {
   "cell_type": "code",
   "execution_count": 9,
   "id": "67e546c9-1821-48bf-9123-cc620af83ad4",
   "metadata": {},
   "outputs": [],
   "source": [
    "# Renaming columns to better understand them in correlation\n",
    "df_merge.rename(columns = {'Year_x' : 'Year of MH Services', 'Value_x' : 'Count of MH Services', 'Year_y' : 'Year of Suicide', 'Value_y' : 'Count of Suicides',}, inplace = True)"
   ]
  },
  {
   "cell_type": "code",
   "execution_count": 11,
   "id": "cb0790cb-b0c5-4568-b1ff-a7f8eb9640ea",
   "metadata": {},
   "outputs": [
    {
     "data": {
      "text/plain": [
       "Id                        0\n",
       "Title Code                0\n",
       "Title                     0\n",
       "Country                   0\n",
       "Year of MH Services       0\n",
       "Count of MH Services      0\n",
       "Data Collection Date_x    0\n",
       "Title Code Suicide        0\n",
       "Suicide rates             0\n",
       "Location                  0\n",
       "Year of Suicide           0\n",
       "Gender                    0\n",
       "Count of Suicides         0\n",
       "Data Collection Date_y    0\n",
       "_merge                    0\n",
       "dtype: int64"
      ]
     },
     "execution_count": 11,
     "metadata": {},
     "output_type": "execute_result"
    }
   ],
   "source": [
    "#Check for missing values\n",
    "df_merge.isnull().sum()"
   ]
  },
  {
   "cell_type": "markdown",
   "id": "da42b41d-57de-431e-95a4-ad2244d3be5d",
   "metadata": {},
   "source": [
    "No missing values"
   ]
  },
  {
   "cell_type": "code",
   "execution_count": 12,
   "id": "f15bf2eb-a179-4b2b-bac7-e215941d65c1",
   "metadata": {},
   "outputs": [],
   "source": [
    "#Check for duplucates\n",
    "dups = df_merge.duplicated()"
   ]
  },
  {
   "cell_type": "code",
   "execution_count": 13,
   "id": "4cc48e72-e8e7-4668-afd7-5ac369fcba18",
   "metadata": {},
   "outputs": [
    {
     "data": {
      "text/plain": [
       "(97320,)"
      ]
     },
     "execution_count": 13,
     "metadata": {},
     "output_type": "execute_result"
    }
   ],
   "source": [
    "dups.shape"
   ]
  },
  {
   "cell_type": "markdown",
   "id": "5dd8f47f-b3cb-41f7-95f9-5a19055e7b83",
   "metadata": {},
   "source": [
    "No duplicates"
   ]
  },
  {
   "cell_type": "code",
   "execution_count": 16,
   "id": "e88c0bbe-fdbc-465d-b309-1d6013993a06",
   "metadata": {},
   "outputs": [
    {
     "name": "stderr",
     "output_type": "stream",
     "text": [
      "C:\\Users\\julia\\AppData\\Local\\Temp\\ipykernel_24912\\3115403398.py:2: UserWarning: \n",
      "\n",
      "`distplot` is a deprecated function and will be removed in seaborn v0.14.0.\n",
      "\n",
      "Please adapt your code to use either `displot` (a figure-level function with\n",
      "similar flexibility) or `histplot` (an axes-level function for histograms).\n",
      "\n",
      "For a guide to updating your code to use the new functions, please see\n",
      "https://gist.github.com/mwaskom/de44147ed2974457ad6372750bbe5751\n",
      "\n",
      "  sns.distplot(df_merge['Count of Suicides'], bins=25)\n",
      "C:\\Users\\julia\\anaconda3\\Lib\\site-packages\\seaborn\\_oldcore.py:1119: FutureWarning: use_inf_as_na option is deprecated and will be removed in a future version. Convert inf values to NaN before operating instead.\n",
      "  with pd.option_context('mode.use_inf_as_na', True):\n"
     ]
    },
    {
     "data": {
      "text/plain": [
       "<Axes: xlabel='Count of Suicides', ylabel='Density'>"
      ]
     },
     "execution_count": 16,
     "metadata": {},
     "output_type": "execute_result"
    },
    {
     "data": {
      "image/png": "[encoded data removed]",
      "text/plain": [
       "<Figure size 640x480 with 1 Axes>"
      ]
     },
     "metadata": {},
     "output_type": "display_data"
    }
   ],
   "source": [
    "# Check for extreme values\n",
    "sns.distplot(df_merge['Count of Suicides'], bins=25)"
   ]
  },
  {
   "cell_type": "markdown",
   "id": "29e43af1-8f0e-4bca-9edc-66f6435937f1",
   "metadata": {},
   "source": [
    "## 4. Create a scatterplot"
   ]
  },
  {
   "cell_type": "code",
   "execution_count": 17,
   "id": "e5f04cbb-7819-40b1-b441-026835972c27",
   "metadata": {},
   "outputs": [
    {
     "data": {
      "image/png": "[encoded data removed]",
      "text/plain": [
       "<Figure size 640x480 with 1 Axes>"
      ]
     },
     "metadata": {},
     "output_type": "display_data"
    }
   ],
   "source": [
    "df_merge.plot(x = 'Count of Suicides', y='Count of MH Services',style='o')\n",
    "plt.title('Correlation Suicides and MH Services')  \n",
    "plt.xlabel('Suicides')  \n",
    "plt.ylabel('MH Services')  \n",
    "plt.show()"
   ]
  },
  {
   "cell_type": "markdown",
   "id": "f8c34b20-b582-4298-8bb4-ee375040f407",
   "metadata": {},
   "source": [
    "## 5. Hypothesis"
   ]
  },
  {
   "cell_type": "markdown",
   "id": "ed3b2cfb-7a0d-4c37-9820-2651ded2540f",
   "metadata": {},
   "source": [
    "Hypothesis: The more Mental Health Services are available, the less suicides there are."
   ]
  },
  {
   "cell_type": "markdown",
   "id": "e6c4707b-5569-4933-a346-c8ef5b7d73a1",
   "metadata": {},
   "source": [
    "## 6. Reshaping the variables into NumPy arrays"
   ]
  },
  {
   "cell_type": "code",
   "execution_count": 18,
   "id": "ed727b76-c29d-490e-bab2-1860edd02a51",
   "metadata": {},
   "outputs": [],
   "source": [
    "X = df_merge['Count of Suicides'].values.reshape(-1,1)\n",
    "y = df_merge['Count of MH Services'].values.reshape(-1,1)"
   ]
  },
  {
   "cell_type": "code",
   "execution_count": 20,
   "id": "bdfbbdb2-40a9-4aa5-9671-af806947708f",
   "metadata": {},
   "outputs": [
    {
     "data": {
      "text/plain": [
       "array([[ 5.67],\n",
       "       [ 5.96],\n",
       "       [ 6.19],\n",
       "       ...,\n",
       "       [ 1.65],\n",
       "       [11.32],\n",
       "       [ 6.35]])"
      ]
     },
     "execution_count": 20,
     "metadata": {},
     "output_type": "execute_result"
    }
   ],
   "source": [
    "X"
   ]
  },
  {
   "cell_type": "code",
   "execution_count": 22,
   "id": "27de853f-be84-4d75-88ba-d9d6406aad7d",
   "metadata": {},
   "outputs": [
    {
     "data": {
      "text/plain": [
       "array([[0.231],\n",
       "       [0.231],\n",
       "       [0.231],\n",
       "       ...,\n",
       "       [0.   ],\n",
       "       [0.   ],\n",
       "       [0.   ]])"
      ]
     },
     "execution_count": 22,
     "metadata": {},
     "output_type": "execute_result"
    }
   ],
   "source": [
    "y"
   ]
  },
  {
   "cell_type": "markdown",
   "id": "be63284e-701d-4b47-9dcf-d062e80fae5d",
   "metadata": {},
   "source": [
    "## 7. Split data into a training set and a test set"
   ]
  },
  {
   "cell_type": "code",
   "execution_count": 23,
   "id": "8142a25a-d3a1-4894-a3ac-ee27d4cc7993",
   "metadata": {},
   "outputs": [],
   "source": [
    "X_train, X_test, y_train, y_test = train_test_split(X, y, test_size=0.3, random_state=0)"
   ]
  },
  {
   "cell_type": "markdown",
   "id": "cd9676ed-2908-4d99-b24f-b7a7ac0e7ca9",
   "metadata": {},
   "source": [
    "## 8. Regression analysis"
   ]
  },
  {
   "cell_type": "code",
   "execution_count": 24,
   "id": "9f4dd105-14a5-4f2d-8a6d-79e3683a4e44",
   "metadata": {},
   "outputs": [],
   "source": [
    "# Create a regression object\n",
    "regression = LinearRegression()"
   ]
  },
  {
   "cell_type": "code",
   "execution_count": 25,
   "id": "6b5917c2-8389-4cd1-a60c-74816697be13",
   "metadata": {},
   "outputs": [
    {
     "data": {
      "text/html": [
       "<style>#sk-container-id-1 {color: black;background-color: white;}#sk-container-id-1 pre{padding: 0;}#sk-container-id-1 div.sk-toggleable {background-color: white;}#sk-container-id-1 label.sk-toggleable__label {cursor: pointer;display: block;width: 100%;margin-bottom: 0;padding: 0.3em;box-sizing: border-box;text-align: center;}#sk-container-id-1 label.sk-toggleable__label-arrow:before {content: \"▸\";float: left;margin-right: 0.25em;color: #696969;}#sk-container-id-1 label.sk-toggleable__label-arrow:hover:before {color: black;}#sk-container-id-1 div.sk-estimator:hover label.sk-toggleable__label-arrow:before {color: black;}#sk-container-id-1 div.sk-toggleable__content {max-height: 0;max-width: 0;overflow: hidden;text-align: left;background-color: #f0f8ff;}#sk-container-id-1 div.sk-toggleable__content pre {margin: 0.2em;color: black;border-radius: 0.25em;background-color: #f0f8ff;}#sk-container-id-1 input.sk-toggleable__control:checked~div.sk-toggleable__content {max-height: 200px;max-width: 100%;overflow: auto;}#sk-container-id-1 input.sk-toggleable__control:checked~label.sk-toggleable__label-arrow:before {content: \"▾\";}#sk-container-id-1 div.sk-estimator input.sk-toggleable__control:checked~label.sk-toggleable__label {background-color: #d4ebff;}#sk-container-id-1 div.sk-label input.sk-toggleable__control:checked~label.sk-toggleable__label {background-color: #d4ebff;}#sk-container-id-1 input.sk-hidden--visually {border: 0;clip: rect(1px 1px 1px 1px);clip: rect(1px, 1px, 1px, 1px);height: 1px;margin: -1px;overflow: hidden;padding: 0;position: absolute;width: 1px;}#sk-container-id-1 div.sk-estimator {font-family: monospace;background-color: #f0f8ff;border: 1px dotted black;border-radius: 0.25em;box-sizing: border-box;margin-bottom: 0.5em;}#sk-container-id-1 div.sk-estimator:hover {background-color: #d4ebff;}#sk-container-id-1 div.sk-parallel-item::after {content: \"\";width: 100%;border-bottom: 1px solid gray;flex-grow: 1;}#sk-container-id-1 div.sk-label:hover label.sk-toggleable__label {background-color: #d4ebff;}#sk-container-id-1 div.sk-serial::before {content: \"\";position: absolute;border-left: 1px solid gray;box-sizing: border-box;top: 0;bottom: 0;left: 50%;z-index: 0;}#sk-container-id-1 div.sk-serial {display: flex;flex-direction: column;align-items: center;background-color: white;padding-right: 0.2em;padding-left: 0.2em;position: relative;}#sk-container-id-1 div.sk-item {position: relative;z-index: 1;}#sk-container-id-1 div.sk-parallel {display: flex;align-items: stretch;justify-content: center;background-color: white;position: relative;}#sk-container-id-1 div.sk-item::before, #sk-container-id-1 div.sk-parallel-item::before {content: \"\";position: absolute;border-left: 1px solid gray;box-sizing: border-box;top: 0;bottom: 0;left: 50%;z-index: -1;}#sk-container-id-1 div.sk-parallel-item {display: flex;flex-direction: column;z-index: 1;position: relative;background-color: white;}#sk-container-id-1 div.sk-parallel-item:first-child::after {align-self: flex-end;width: 50%;}#sk-container-id-1 div.sk-parallel-item:last-child::after {align-self: flex-start;width: 50%;}#sk-container-id-1 div.sk-parallel-item:only-child::after {width: 0;}#sk-container-id-1 div.sk-dashed-wrapped {border: 1px dashed gray;margin: 0 0.4em 0.5em 0.4em;box-sizing: border-box;padding-bottom: 0.4em;background-color: white;}#sk-container-id-1 div.sk-label label {font-family: monospace;font-weight: bold;display: inline-block;line-height: 1.2em;}#sk-container-id-1 div.sk-label-container {text-align: center;}#sk-container-id-1 div.sk-container {/* jupyter's `normalize.less` sets `[hidden] { display: none; }` but bootstrap.min.css set `[hidden] { display: none !important; }` so we also need the `!important` here to be able to override the default hidden behavior on the sphinx rendered scikit-learn.org. See: https://github.com/scikit-learn/scikit-learn/issues/21755 */display: inline-block !important;position: relative;}#sk-container-id-1 div.sk-text-repr-fallback {display: none;}</style><div id=\"sk-container-id-1\" class=\"sk-top-container\"><div class=\"sk-text-repr-fallback\"><pre>LinearRegression()</pre><b>In a Jupyter environment, please rerun this cell to show the HTML representation or trust the notebook. <br />On GitHub, the HTML representation is unable to render, please try loading this page with nbviewer.org.</b></div><div class=\"sk-container\" hidden><div class=\"sk-item\"><div class=\"sk-estimator sk-toggleable\"><input class=\"sk-toggleable__control sk-hidden--visually\" id=\"sk-estimator-id-1\" type=\"checkbox\" checked><label for=\"sk-estimator-id-1\" class=\"sk-toggleable__label sk-toggleable__label-arrow\">LinearRegression</label><div class=\"sk-toggleable__content\"><pre>LinearRegression()</pre></div></div></div></div></div>"
      ],
      "text/plain": [
       "LinearRegression()"
      ]
     },
     "execution_count": 25,
     "metadata": {},
     "output_type": "execute_result"
    }
   ],
   "source": [
    "# Fit the regression object onto the training set\n",
    "regression.fit(X_train, y_train)"
   ]
  },
  {
   "cell_type": "code",
   "execution_count": 26,
   "id": "8b5b33db-e427-4074-94e2-99ed226774fd",
   "metadata": {},
   "outputs": [],
   "source": [
    "# Predict the values of y using X\n",
    "y_predicted = regression.predict(X_test)"
   ]
  },
  {
   "cell_type": "code",
   "execution_count": 31,
   "id": "ace01742-2af4-46db-9ae1-de0104256b7d",
   "metadata": {},
   "outputs": [
    {
     "data": {
      "image/png": "[encoded data removed]",
      "text/plain": [
       "<Figure size 640x480 with 1 Axes>"
      ]
     },
     "metadata": {},
     "output_type": "display_data"
    }
   ],
   "source": [
    "# Create a plot that shows the regression line from the model on the test set\n",
    "plot_test = plt\n",
    "plot_test.scatter(X_test, y_test, color='skyblue', s = 15)\n",
    "plot_test.plot(X_test, y_predicted, color='blue', linewidth =3)\n",
    "plot_test.title('Suicides/MH Services (Test set)')\n",
    "plot_test.xlabel('Suicides')\n",
    "plot_test.ylabel('MH Services')\n",
    "plot_test.show()"
   ]
  },
  {
   "cell_type": "code",
   "execution_count": 32,
   "id": "0835fed7-1fce-41b4-b102-fee0107b395f",
   "metadata": {},
   "outputs": [],
   "source": [
    "# Create objects that contain the model summary statistics\n",
    "rmse = mean_squared_error(y_test, y_predicted) \n",
    "r2 = r2_score(y_test, y_predicted) "
   ]
  },
  {
   "cell_type": "code",
   "execution_count": 33,
   "id": "52a1e44a-8d1e-4591-b7f7-46a5a2a60d42",
   "metadata": {},
   "outputs": [
    {
     "name": "stdout",
     "output_type": "stream",
     "text": [
      "Slope: [[3.12693757]]\n",
      "Mean squared error:  5214380.963994421\n",
      "R2 score:  0.000648303595659816\n"
     ]
    }
   ],
   "source": [
    "# Print the model summary statistics\n",
    "print('Slope:' ,regression.coef_)\n",
    "print('Mean squared error: ', rmse)\n",
    "print('R2 score: ', r2)"
   ]
  },
  {
   "cell_type": "code",
   "execution_count": 34,
   "id": "fe9fdd47-75e4-4efa-ab45-cd8209e9b040",
   "metadata": {},
   "outputs": [
    {
     "data": {
      "text/plain": [
       "array([[277.82835506],\n",
       "       [249.02926001],\n",
       "       [256.87787332],\n",
       "       ...,\n",
       "       [286.11473962],\n",
       "       [257.87849334],\n",
       "       [266.6964573 ]])"
      ]
     },
     "execution_count": 34,
     "metadata": {},
     "output_type": "execute_result"
    }
   ],
   "source": [
    "y_predicted"
   ]
  },
  {
   "cell_type": "code",
   "execution_count": 35,
   "id": "81691d4f-bceb-4ca8-abc5-dd4001b2673c",
   "metadata": {},
   "outputs": [
    {
     "data": {
      "text/html": [
       "<div>\n",
       "<style scoped>\n",
       "    .dataframe tbody tr th:only-of-type {\n",
       "        vertical-align: middle;\n",
       "    }\n",
       "\n",
       "    .dataframe tbody tr th {\n",
       "        vertical-align: top;\n",
       "    }\n",
       "\n",
       "    .dataframe thead th {\n",
       "        text-align: right;\n",
       "    }\n",
       "</style>\n",
       "<table border=\"1\" class=\"dataframe\">\n",
       "  <thead>\n",
       "    <tr style=\"text-align: right;\">\n",
       "      <th></th>\n",
       "      <th>Actual</th>\n",
       "      <th>Predicted</th>\n",
       "    </tr>\n",
       "  </thead>\n",
       "  <tbody>\n",
       "    <tr>\n",
       "      <th>0</th>\n",
       "      <td>41.856</td>\n",
       "      <td>277.828355</td>\n",
       "    </tr>\n",
       "    <tr>\n",
       "      <th>1</th>\n",
       "      <td>2.821</td>\n",
       "      <td>249.029260</td>\n",
       "    </tr>\n",
       "    <tr>\n",
       "      <th>2</th>\n",
       "      <td>0.136</td>\n",
       "      <td>256.877873</td>\n",
       "    </tr>\n",
       "    <tr>\n",
       "      <th>3</th>\n",
       "      <td>103.608</td>\n",
       "      <td>257.315645</td>\n",
       "    </tr>\n",
       "    <tr>\n",
       "      <th>4</th>\n",
       "      <td>46.484</td>\n",
       "      <td>323.575452</td>\n",
       "    </tr>\n",
       "    <tr>\n",
       "      <th>5</th>\n",
       "      <td>0.011</td>\n",
       "      <td>272.793986</td>\n",
       "    </tr>\n",
       "    <tr>\n",
       "      <th>6</th>\n",
       "      <td>0.444</td>\n",
       "      <td>266.258686</td>\n",
       "    </tr>\n",
       "    <tr>\n",
       "      <th>7</th>\n",
       "      <td>3.568</td>\n",
       "      <td>258.410073</td>\n",
       "    </tr>\n",
       "    <tr>\n",
       "      <th>8</th>\n",
       "      <td>0.239</td>\n",
       "      <td>249.341954</td>\n",
       "    </tr>\n",
       "    <tr>\n",
       "      <th>9</th>\n",
       "      <td>0.000</td>\n",
       "      <td>275.639499</td>\n",
       "    </tr>\n",
       "    <tr>\n",
       "      <th>10</th>\n",
       "      <td>5.158</td>\n",
       "      <td>251.061769</td>\n",
       "    </tr>\n",
       "    <tr>\n",
       "      <th>11</th>\n",
       "      <td>8.328</td>\n",
       "      <td>269.635779</td>\n",
       "    </tr>\n",
       "    <tr>\n",
       "      <th>12</th>\n",
       "      <td>5.793</td>\n",
       "      <td>327.046352</td>\n",
       "    </tr>\n",
       "    <tr>\n",
       "      <th>13</th>\n",
       "      <td>0.908</td>\n",
       "      <td>277.734547</td>\n",
       "    </tr>\n",
       "    <tr>\n",
       "      <th>14</th>\n",
       "      <td>0.936</td>\n",
       "      <td>241.243185</td>\n",
       "    </tr>\n",
       "    <tr>\n",
       "      <th>15</th>\n",
       "      <td>16.364</td>\n",
       "      <td>249.373223</td>\n",
       "    </tr>\n",
       "    <tr>\n",
       "      <th>16</th>\n",
       "      <td>4.179</td>\n",
       "      <td>260.348774</td>\n",
       "    </tr>\n",
       "    <tr>\n",
       "      <th>17</th>\n",
       "      <td>93.029</td>\n",
       "      <td>273.325565</td>\n",
       "    </tr>\n",
       "    <tr>\n",
       "      <th>18</th>\n",
       "      <td>1.827</td>\n",
       "      <td>248.841644</td>\n",
       "    </tr>\n",
       "    <tr>\n",
       "      <th>19</th>\n",
       "      <td>0.063</td>\n",
       "      <td>270.605129</td>\n",
       "    </tr>\n",
       "    <tr>\n",
       "      <th>20</th>\n",
       "      <td>0.011</td>\n",
       "      <td>244.745356</td>\n",
       "    </tr>\n",
       "    <tr>\n",
       "      <th>21</th>\n",
       "      <td>0.000</td>\n",
       "      <td>261.349394</td>\n",
       "    </tr>\n",
       "    <tr>\n",
       "      <th>22</th>\n",
       "      <td>35.585</td>\n",
       "      <td>411.911438</td>\n",
       "    </tr>\n",
       "    <tr>\n",
       "      <th>23</th>\n",
       "      <td>0.048</td>\n",
       "      <td>252.719046</td>\n",
       "    </tr>\n",
       "    <tr>\n",
       "      <th>24</th>\n",
       "      <td>0.718</td>\n",
       "      <td>241.774765</td>\n",
       "    </tr>\n",
       "    <tr>\n",
       "      <th>25</th>\n",
       "      <td>85.671</td>\n",
       "      <td>274.076030</td>\n",
       "    </tr>\n",
       "    <tr>\n",
       "      <th>26</th>\n",
       "      <td>1.688</td>\n",
       "      <td>277.109159</td>\n",
       "    </tr>\n",
       "    <tr>\n",
       "      <th>27</th>\n",
       "      <td>24.018</td>\n",
       "      <td>262.256206</td>\n",
       "    </tr>\n",
       "    <tr>\n",
       "      <th>28</th>\n",
       "      <td>0.189</td>\n",
       "      <td>295.339205</td>\n",
       "    </tr>\n",
       "    <tr>\n",
       "      <th>29</th>\n",
       "      <td>0.479</td>\n",
       "      <td>245.151857</td>\n",
       "    </tr>\n",
       "  </tbody>\n",
       "</table>\n",
       "</div>"
      ],
      "text/plain": [
       "     Actual   Predicted\n",
       "0    41.856  277.828355\n",
       "1     2.821  249.029260\n",
       "2     0.136  256.877873\n",
       "3   103.608  257.315645\n",
       "4    46.484  323.575452\n",
       "5     0.011  272.793986\n",
       "6     0.444  266.258686\n",
       "7     3.568  258.410073\n",
       "8     0.239  249.341954\n",
       "9     0.000  275.639499\n",
       "10    5.158  251.061769\n",
       "11    8.328  269.635779\n",
       "12    5.793  327.046352\n",
       "13    0.908  277.734547\n",
       "14    0.936  241.243185\n",
       "15   16.364  249.373223\n",
       "16    4.179  260.348774\n",
       "17   93.029  273.325565\n",
       "18    1.827  248.841644\n",
       "19    0.063  270.605129\n",
       "20    0.011  244.745356\n",
       "21    0.000  261.349394\n",
       "22   35.585  411.911438\n",
       "23    0.048  252.719046\n",
       "24    0.718  241.774765\n",
       "25   85.671  274.076030\n",
       "26    1.688  277.109159\n",
       "27   24.018  262.256206\n",
       "28    0.189  295.339205\n",
       "29    0.479  245.151857"
      ]
     },
     "execution_count": 35,
     "metadata": {},
     "output_type": "execute_result"
    }
   ],
   "source": [
    "# Create a dataframe comparing the actual and predicted values of y\n",
    "data = pd.DataFrame({'Actual': y_test.flatten(), 'Predicted': y_predicted.flatten()})\n",
    "data.head(30)"
   ]
  },
  {
   "cell_type": "code",
   "execution_count": 37,
   "id": "e47e17dd-e47f-4b85-be72-b659c9381458",
   "metadata": {},
   "outputs": [],
   "source": [
    "# Predict\n",
    "y_predicted_train = regression.predict(X_train)"
   ]
  },
  {
   "cell_type": "code",
   "execution_count": 38,
   "id": "43665110-3e54-40cf-b4cf-3fbbc6c4991f",
   "metadata": {},
   "outputs": [],
   "source": [
    "rmse = mean_squared_error(y_train, y_predicted_train)\n",
    "r2 = r2_score(y_train, y_predicted_train)"
   ]
  },
  {
   "cell_type": "code",
   "execution_count": 39,
   "id": "95d2686a-806d-450e-869b-b57ae102cad8",
   "metadata": {},
   "outputs": [
    {
     "name": "stdout",
     "output_type": "stream",
     "text": [
      "Slope: [[3.12693757]]\n",
      "Mean squared error:  4888377.312087261\n",
      "R2 score:  0.0002413962057945529\n"
     ]
    }
   ],
   "source": [
    "print('Slope:' ,regression.coef_)\n",
    "print('Mean squared error: ', rmse)\n",
    "print('R2 score: ', r2)"
   ]
  },
  {
   "cell_type": "code",
   "execution_count": 41,
   "id": "aa6ac9b0-6d58-48fe-b27e-5024a07dbb49",
   "metadata": {},
   "outputs": [
    {
     "data": {
      "image/png": "[encoded data removed]",
      "text/plain": [
       "<Figure size 640x480 with 1 Axes>"
      ]
     },
     "metadata": {},
     "output_type": "display_data"
    }
   ],
   "source": [
    "# Visualizing the training set results\n",
    "plot_test = plt\n",
    "plot_test.scatter(X_train, y_train, color='pink', s = 15)\n",
    "plot_test.plot(X_train, y_predicted_train, color='orange', linewidth =3)\n",
    "plot_test.title('Suicides/MH Services (Train set)')\n",
    "plot_test.xlabel('Suicides')\n",
    "plot_test.ylabel('MH Services')\n",
    "plot_test.show()"
   ]
  },
  {
   "cell_type": "markdown",
   "id": "f87dec88-33ab-4d0e-ae34-11697abef5ae",
   "metadata": {},
   "source": [
    "The test set visualization is the same as the train set. Also, the predicted values are far higher than the actual ones. I'm not sure, what exactly this tells me."
   ]
  }
 ],
 "metadata": {
  "kernelspec": {
   "display_name": "Python 3 (ipykernel)",
   "language": "python",
   "name": "python3"
  },
  "language_info": {
   "codemirror_mode": {
    "name": "ipython",
    "version": 3
   },
   "file_extension": ".py",
   "mimetype": "text/x-python",
   "name": "python",
   "nbconvert_exporter": "python",
   "pygments_lexer": "ipython3",
   "version": "3.11.7"
  }
 },
 "nbformat": 4,
 "nbformat_minor": 5
}
