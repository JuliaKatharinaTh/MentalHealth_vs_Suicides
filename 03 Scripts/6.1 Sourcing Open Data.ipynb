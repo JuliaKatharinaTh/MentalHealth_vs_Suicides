{
 "cells": [
  {
   "cell_type": "markdown",
   "id": "90c898fa-7df4-4333-aacd-0268c05b53b0",
   "metadata": {},
   "source": [
    "# 6.1 Sourcing Open Data"
   ]
  },
  {
   "cell_type": "code",
   "execution_count": 1,
   "id": "ceb43872-d001-472d-aa3f-d53dd2edc1c0",
   "metadata": {},
   "outputs": [],
   "source": [
    "# Install data libraries\n",
    "import pandas as pd\n",
    "import numpy as np\n",
    "import os\n",
    "import matplotlib.pyplot as plt\n",
    "import seaborn as sns\n",
    "import scipy"
   ]
  },
  {
   "cell_type": "markdown",
   "id": "c213b0f5-f566-48c6-bab9-f35c59467931",
   "metadata": {},
   "source": [
    "## 1. Importing data sets"
   ]
  },
  {
   "cell_type": "code",
   "execution_count": 2,
   "id": "63504565-18b1-4f10-9639-0b0376878507",
   "metadata": {},
   "outputs": [],
   "source": [
    "path = r'C:\\Users\\julia\\anaconda3\\Mental Health Service Ability vs Suicides'"
   ]
  },
  {
   "cell_type": "code",
   "execution_count": 6,
   "id": "4b0848c6-3afd-40a7-8b5d-5e4d2a2cfe16",
   "metadata": {},
   "outputs": [],
   "source": [
    "df_mh = pd.read_csv(os.path.join(path, '02 Data', 'Prepared Data', 'Mental Health Service Ability.csv'), index_col = False)"
   ]
  },
  {
   "cell_type": "code",
   "execution_count": 7,
   "id": "42fd9376-facf-46f9-afce-c3a95550f0f6",
   "metadata": {},
   "outputs": [],
   "source": [
    "df_s = pd.read_csv(os.path.join(path, '02 Data', 'Prepared Data', 'Suicide rates.csv'), index_col = False)"
   ]
  },
  {
   "cell_type": "markdown",
   "id": "ea3d30f5-5290-4281-9442-2c20c1786cf4",
   "metadata": {},
   "source": [
    "## 2. Check data frame"
   ]
  },
  {
   "cell_type": "code",
   "execution_count": 8,
   "id": "df6c824a-265c-4518-a55f-d28ab7540a5c",
   "metadata": {},
   "outputs": [
    {
     "data": {
      "text/plain": [
       "(1657, 7)"
      ]
     },
     "execution_count": 8,
     "metadata": {},
     "output_type": "execute_result"
    }
   ],
   "source": [
    "df_mh.shape"
   ]
  },
  {
   "cell_type": "code",
   "execution_count": 13,
   "id": "d74dfb02-db8c-44e7-acdd-fc282486b0c8",
   "metadata": {},
   "outputs": [
    {
     "data": {
      "text/plain": [
       "Id                        int64\n",
       "Title Code               object\n",
       "Title                    object\n",
       "Country                  object\n",
       "Year                      int64\n",
       "Value                   float64\n",
       "Data Collection Date     object\n",
       "dtype: object"
      ]
     },
     "execution_count": 13,
     "metadata": {},
     "output_type": "execute_result"
    }
   ],
   "source": [
    "df_mh.dtypes"
   ]
  },
  {
   "cell_type": "code",
   "execution_count": 15,
   "id": "dd7a6d03-e028-450a-a618-441d4895be7b",
   "metadata": {},
   "outputs": [
    {
     "data": {
      "text/html": [
       "<div>\n",
       "<style scoped>\n",
       "    .dataframe tbody tr th:only-of-type {\n",
       "        vertical-align: middle;\n",
       "    }\n",
       "\n",
       "    .dataframe tbody tr th {\n",
       "        vertical-align: top;\n",
       "    }\n",
       "\n",
       "    .dataframe thead th {\n",
       "        text-align: right;\n",
       "    }\n",
       "</style>\n",
       "<table border=\"1\" class=\"dataframe\">\n",
       "  <thead>\n",
       "    <tr style=\"text-align: right;\">\n",
       "      <th></th>\n",
       "      <th>Id</th>\n",
       "      <th>Year</th>\n",
       "      <th>Value</th>\n",
       "    </tr>\n",
       "  </thead>\n",
       "  <tbody>\n",
       "    <tr>\n",
       "      <th>count</th>\n",
       "      <td>1.657000e+03</td>\n",
       "      <td>1657.000000</td>\n",
       "      <td>1657.000000</td>\n",
       "    </tr>\n",
       "    <tr>\n",
       "      <th>mean</th>\n",
       "      <td>1.901804e+07</td>\n",
       "      <td>2015.614363</td>\n",
       "      <td>291.032976</td>\n",
       "    </tr>\n",
       "    <tr>\n",
       "      <th>std</th>\n",
       "      <td>3.692637e+06</td>\n",
       "      <td>0.948740</td>\n",
       "      <td>2258.151503</td>\n",
       "    </tr>\n",
       "    <tr>\n",
       "      <th>min</th>\n",
       "      <td>1.110146e+07</td>\n",
       "      <td>2013.000000</td>\n",
       "      <td>0.000000</td>\n",
       "    </tr>\n",
       "    <tr>\n",
       "      <th>25%</th>\n",
       "      <td>2.073904e+07</td>\n",
       "      <td>2015.000000</td>\n",
       "      <td>0.145000</td>\n",
       "    </tr>\n",
       "    <tr>\n",
       "      <th>50%</th>\n",
       "      <td>2.073946e+07</td>\n",
       "      <td>2016.000000</td>\n",
       "      <td>1.298000</td>\n",
       "    </tr>\n",
       "    <tr>\n",
       "      <th>75%</th>\n",
       "      <td>2.073987e+07</td>\n",
       "      <td>2016.000000</td>\n",
       "      <td>11.462000</td>\n",
       "    </tr>\n",
       "    <tr>\n",
       "      <th>max</th>\n",
       "      <td>2.074028e+07</td>\n",
       "      <td>2017.000000</td>\n",
       "      <td>44208.151000</td>\n",
       "    </tr>\n",
       "  </tbody>\n",
       "</table>\n",
       "</div>"
      ],
      "text/plain": [
       "                 Id         Year         Value\n",
       "count  1.657000e+03  1657.000000   1657.000000\n",
       "mean   1.901804e+07  2015.614363    291.032976\n",
       "std    3.692637e+06     0.948740   2258.151503\n",
       "min    1.110146e+07  2013.000000      0.000000\n",
       "25%    2.073904e+07  2015.000000      0.145000\n",
       "50%    2.073946e+07  2016.000000      1.298000\n",
       "75%    2.073987e+07  2016.000000     11.462000\n",
       "max    2.074028e+07  2017.000000  44208.151000"
      ]
     },
     "execution_count": 15,
     "metadata": {},
     "output_type": "execute_result"
    }
   ],
   "source": [
    "df_mh.describe()"
   ]
  },
  {
   "cell_type": "code",
   "execution_count": 19,
   "id": "0209456b-8e37-46d8-86b5-e2c75e20ab83",
   "metadata": {},
   "outputs": [
    {
     "data": {
      "text/html": [
       "<div>\n",
       "<style scoped>\n",
       "    .dataframe tbody tr th:only-of-type {\n",
       "        vertical-align: middle;\n",
       "    }\n",
       "\n",
       "    .dataframe tbody tr th {\n",
       "        vertical-align: top;\n",
       "    }\n",
       "\n",
       "    .dataframe thead th {\n",
       "        text-align: right;\n",
       "    }\n",
       "</style>\n",
       "<table border=\"1\" class=\"dataframe\">\n",
       "  <thead>\n",
       "    <tr style=\"text-align: right;\">\n",
       "      <th></th>\n",
       "      <th>Id</th>\n",
       "      <th>Title Code</th>\n",
       "      <th>Title</th>\n",
       "      <th>Country</th>\n",
       "      <th>Year</th>\n",
       "      <th>Value</th>\n",
       "      <th>Data Collection Date</th>\n",
       "    </tr>\n",
       "  </thead>\n",
       "  <tbody>\n",
       "    <tr>\n",
       "      <th>0</th>\n",
       "      <td>20738925</td>\n",
       "      <td>MH_6</td>\n",
       "      <td>Psychiatrists working in mental health sector ...</td>\n",
       "      <td>AFG</td>\n",
       "      <td>2016</td>\n",
       "      <td>0.231</td>\n",
       "      <td>2019-04-25T15:31:58Z</td>\n",
       "    </tr>\n",
       "    <tr>\n",
       "      <th>1</th>\n",
       "      <td>20738933</td>\n",
       "      <td>MH_6</td>\n",
       "      <td>Psychiatrists working in mental health sector ...</td>\n",
       "      <td>ALB</td>\n",
       "      <td>2016</td>\n",
       "      <td>1.471</td>\n",
       "      <td>2019-04-25T15:31:58Z</td>\n",
       "    </tr>\n",
       "    <tr>\n",
       "      <th>2</th>\n",
       "      <td>20738949</td>\n",
       "      <td>MH_6</td>\n",
       "      <td>Psychiatrists working in mental health sector ...</td>\n",
       "      <td>AGO</td>\n",
       "      <td>2016</td>\n",
       "      <td>0.057</td>\n",
       "      <td>2019-04-25T15:31:59Z</td>\n",
       "    </tr>\n",
       "    <tr>\n",
       "      <th>3</th>\n",
       "      <td>20738958</td>\n",
       "      <td>MH_6</td>\n",
       "      <td>Psychiatrists working in mental health sector ...</td>\n",
       "      <td>ATG</td>\n",
       "      <td>2016</td>\n",
       "      <td>1.001</td>\n",
       "      <td>2019-04-25T15:31:59Z</td>\n",
       "    </tr>\n",
       "    <tr>\n",
       "      <th>4</th>\n",
       "      <td>20738963</td>\n",
       "      <td>MH_6</td>\n",
       "      <td>Psychiatrists working in mental health sector ...</td>\n",
       "      <td>ARG</td>\n",
       "      <td>2016</td>\n",
       "      <td>21.705</td>\n",
       "      <td>2019-04-25T15:31:59Z</td>\n",
       "    </tr>\n",
       "  </tbody>\n",
       "</table>\n",
       "</div>"
      ],
      "text/plain": [
       "         Id Title Code                                              Title  \\\n",
       "0  20738925       MH_6  Psychiatrists working in mental health sector ...   \n",
       "1  20738933       MH_6  Psychiatrists working in mental health sector ...   \n",
       "2  20738949       MH_6  Psychiatrists working in mental health sector ...   \n",
       "3  20738958       MH_6  Psychiatrists working in mental health sector ...   \n",
       "4  20738963       MH_6  Psychiatrists working in mental health sector ...   \n",
       "\n",
       "  Country  Year   Value  Data Collection Date  \n",
       "0     AFG  2016   0.231  2019-04-25T15:31:58Z  \n",
       "1     ALB  2016   1.471  2019-04-25T15:31:58Z  \n",
       "2     AGO  2016   0.057  2019-04-25T15:31:59Z  \n",
       "3     ATG  2016   1.001  2019-04-25T15:31:59Z  \n",
       "4     ARG  2016  21.705  2019-04-25T15:31:59Z  "
      ]
     },
     "execution_count": 19,
     "metadata": {},
     "output_type": "execute_result"
    }
   ],
   "source": [
    "df_mh.head()"
   ]
  },
  {
   "cell_type": "code",
   "execution_count": 9,
   "id": "92c9c15f-9901-4d2d-b091-0e7b2fc3cdd5",
   "metadata": {},
   "outputs": [
    {
     "data": {
      "text/plain": [
       "(10980, 8)"
      ]
     },
     "execution_count": 9,
     "metadata": {},
     "output_type": "execute_result"
    }
   ],
   "source": [
    "df_s.shape"
   ]
  },
  {
   "cell_type": "code",
   "execution_count": 14,
   "id": "3e877bb8-a152-4c29-96cb-4aa1e055c826",
   "metadata": {},
   "outputs": [
    {
     "data": {
      "text/plain": [
       "Title Code Suicide       object\n",
       "Suicide rates            object\n",
       "Country                  object\n",
       "Location                 object\n",
       "Year                      int64\n",
       "Gender                   object\n",
       "Value                   float64\n",
       "Data Collection Date     object\n",
       "dtype: object"
      ]
     },
     "execution_count": 14,
     "metadata": {},
     "output_type": "execute_result"
    }
   ],
   "source": [
    "df_s.dtypes"
   ]
  },
  {
   "cell_type": "code",
   "execution_count": 16,
   "id": "d2d09bd3-1513-48f5-9aba-fd3f2d1be2ae",
   "metadata": {},
   "outputs": [
    {
     "data": {
      "text/html": [
       "<div>\n",
       "<style scoped>\n",
       "    .dataframe tbody tr th:only-of-type {\n",
       "        vertical-align: middle;\n",
       "    }\n",
       "\n",
       "    .dataframe tbody tr th {\n",
       "        vertical-align: top;\n",
       "    }\n",
       "\n",
       "    .dataframe thead th {\n",
       "        text-align: right;\n",
       "    }\n",
       "</style>\n",
       "<table border=\"1\" class=\"dataframe\">\n",
       "  <thead>\n",
       "    <tr style=\"text-align: right;\">\n",
       "      <th></th>\n",
       "      <th>Year</th>\n",
       "      <th>Value</th>\n",
       "    </tr>\n",
       "  </thead>\n",
       "  <tbody>\n",
       "    <tr>\n",
       "      <th>count</th>\n",
       "      <td>10980.000000</td>\n",
       "      <td>10980.000000</td>\n",
       "    </tr>\n",
       "    <tr>\n",
       "      <th>mean</th>\n",
       "      <td>2009.500000</td>\n",
       "      <td>11.960951</td>\n",
       "    </tr>\n",
       "    <tr>\n",
       "      <th>std</th>\n",
       "      <td>5.766544</td>\n",
       "      <td>12.812487</td>\n",
       "    </tr>\n",
       "    <tr>\n",
       "      <th>min</th>\n",
       "      <td>2000.000000</td>\n",
       "      <td>0.000000</td>\n",
       "    </tr>\n",
       "    <tr>\n",
       "      <th>25%</th>\n",
       "      <td>2004.750000</td>\n",
       "      <td>4.630000</td>\n",
       "    </tr>\n",
       "    <tr>\n",
       "      <th>50%</th>\n",
       "      <td>2009.500000</td>\n",
       "      <td>8.270000</td>\n",
       "    </tr>\n",
       "    <tr>\n",
       "      <th>75%</th>\n",
       "      <td>2014.250000</td>\n",
       "      <td>14.940000</td>\n",
       "    </tr>\n",
       "    <tr>\n",
       "      <th>max</th>\n",
       "      <td>2019.000000</td>\n",
       "      <td>195.200000</td>\n",
       "    </tr>\n",
       "  </tbody>\n",
       "</table>\n",
       "</div>"
      ],
      "text/plain": [
       "               Year         Value\n",
       "count  10980.000000  10980.000000\n",
       "mean    2009.500000     11.960951\n",
       "std        5.766544     12.812487\n",
       "min     2000.000000      0.000000\n",
       "25%     2004.750000      4.630000\n",
       "50%     2009.500000      8.270000\n",
       "75%     2014.250000     14.940000\n",
       "max     2019.000000    195.200000"
      ]
     },
     "execution_count": 16,
     "metadata": {},
     "output_type": "execute_result"
    }
   ],
   "source": [
    "df_s.describe()"
   ]
  },
  {
   "cell_type": "code",
   "execution_count": 22,
   "id": "09aee4cf-b157-4bb0-b6bb-fdd16db18039",
   "metadata": {},
   "outputs": [
    {
     "data": {
      "text/html": [
       "<div>\n",
       "<style scoped>\n",
       "    .dataframe tbody tr th:only-of-type {\n",
       "        vertical-align: middle;\n",
       "    }\n",
       "\n",
       "    .dataframe tbody tr th {\n",
       "        vertical-align: top;\n",
       "    }\n",
       "\n",
       "    .dataframe thead th {\n",
       "        text-align: right;\n",
       "    }\n",
       "</style>\n",
       "<table border=\"1\" class=\"dataframe\">\n",
       "  <thead>\n",
       "    <tr style=\"text-align: right;\">\n",
       "      <th></th>\n",
       "      <th>Title Code Suicide</th>\n",
       "      <th>Suicide rates</th>\n",
       "      <th>Country</th>\n",
       "      <th>Location</th>\n",
       "      <th>Year</th>\n",
       "      <th>Gender</th>\n",
       "      <th>Value</th>\n",
       "      <th>Data Collection Date</th>\n",
       "    </tr>\n",
       "  </thead>\n",
       "  <tbody>\n",
       "    <tr>\n",
       "      <th>0</th>\n",
       "      <td>MH_12</td>\n",
       "      <td>Age-standardized suicide rates (per 100 000 po...</td>\n",
       "      <td>ATG</td>\n",
       "      <td>Antigua and Barbuda</td>\n",
       "      <td>2019</td>\n",
       "      <td>Male</td>\n",
       "      <td>0.00</td>\n",
       "      <td>2021-02-08T23:00:00.000Z</td>\n",
       "    </tr>\n",
       "    <tr>\n",
       "      <th>1</th>\n",
       "      <td>MH_12</td>\n",
       "      <td>Age-standardized suicide rates (per 100 000 po...</td>\n",
       "      <td>BRB</td>\n",
       "      <td>Barbados</td>\n",
       "      <td>2019</td>\n",
       "      <td>Female</td>\n",
       "      <td>0.16</td>\n",
       "      <td>2021-02-08T23:00:00.000Z</td>\n",
       "    </tr>\n",
       "    <tr>\n",
       "      <th>2</th>\n",
       "      <td>MH_12</td>\n",
       "      <td>Age-standardized suicide rates (per 100 000 po...</td>\n",
       "      <td>BRB</td>\n",
       "      <td>Barbados</td>\n",
       "      <td>2019</td>\n",
       "      <td>Both sexes</td>\n",
       "      <td>0.31</td>\n",
       "      <td>2021-02-08T23:00:00.000Z</td>\n",
       "    </tr>\n",
       "    <tr>\n",
       "      <th>3</th>\n",
       "      <td>MH_12</td>\n",
       "      <td>Age-standardized suicide rates (per 100 000 po...</td>\n",
       "      <td>ATG</td>\n",
       "      <td>Antigua and Barbuda</td>\n",
       "      <td>2019</td>\n",
       "      <td>Both sexes</td>\n",
       "      <td>0.32</td>\n",
       "      <td>2021-02-08T23:00:00.000Z</td>\n",
       "    </tr>\n",
       "    <tr>\n",
       "      <th>4</th>\n",
       "      <td>MH_12</td>\n",
       "      <td>Age-standardized suicide rates (per 100 000 po...</td>\n",
       "      <td>BRB</td>\n",
       "      <td>Barbados</td>\n",
       "      <td>2019</td>\n",
       "      <td>Male</td>\n",
       "      <td>0.49</td>\n",
       "      <td>2021-02-08T23:00:00.000Z</td>\n",
       "    </tr>\n",
       "  </tbody>\n",
       "</table>\n",
       "</div>"
      ],
      "text/plain": [
       "  Title Code Suicide                                      Suicide rates  \\\n",
       "0              MH_12  Age-standardized suicide rates (per 100 000 po...   \n",
       "1              MH_12  Age-standardized suicide rates (per 100 000 po...   \n",
       "2              MH_12  Age-standardized suicide rates (per 100 000 po...   \n",
       "3              MH_12  Age-standardized suicide rates (per 100 000 po...   \n",
       "4              MH_12  Age-standardized suicide rates (per 100 000 po...   \n",
       "\n",
       "  Country             Location  Year      Gender  Value  \\\n",
       "0     ATG  Antigua and Barbuda  2019        Male   0.00   \n",
       "1     BRB             Barbados  2019      Female   0.16   \n",
       "2     BRB             Barbados  2019  Both sexes   0.31   \n",
       "3     ATG  Antigua and Barbuda  2019  Both sexes   0.32   \n",
       "4     BRB             Barbados  2019        Male   0.49   \n",
       "\n",
       "       Data Collection Date  \n",
       "0  2021-02-08T23:00:00.000Z  \n",
       "1  2021-02-08T23:00:00.000Z  \n",
       "2  2021-02-08T23:00:00.000Z  \n",
       "3  2021-02-08T23:00:00.000Z  \n",
       "4  2021-02-08T23:00:00.000Z  "
      ]
     },
     "execution_count": 22,
     "metadata": {},
     "output_type": "execute_result"
    }
   ],
   "source": [
    "df_s.head()"
   ]
  },
  {
   "cell_type": "markdown",
   "id": "6386e203-5552-47ee-b614-42845d2fa07e",
   "metadata": {},
   "source": [
    "## 3. Visualizations"
   ]
  },
  {
   "cell_type": "code",
   "execution_count": 21,
   "id": "81687d76-680e-4273-b937-613e8da467f3",
   "metadata": {},
   "outputs": [
    {
     "data": {
      "text/plain": [
       "<Axes: xlabel='Year'>"
      ]
     },
     "execution_count": 21,
     "metadata": {},
     "output_type": "execute_result"
    },
    {
     "data": {
      "image/png": "[encoded data removed]",
      "text/plain": [
       "<Figure size 640x480 with 1 Axes>"
      ]
     },
     "metadata": {},
     "output_type": "display_data"
    }
   ],
   "source": [
    "df_mh['Year'].value_counts().plot.bar()"
   ]
  },
  {
   "cell_type": "code",
   "execution_count": 25,
   "id": "2c0ea032-b86c-48c0-a093-7492df4b562a",
   "metadata": {},
   "outputs": [
    {
     "data": {
      "text/plain": [
       "<Axes: xlabel='Year'>"
      ]
     },
     "execution_count": 25,
     "metadata": {},
     "output_type": "execute_result"
    },
    {
     "data": {
      "image/png": "[encoded data removed]",
      "text/plain": [
       "<Figure size 640x480 with 1 Axes>"
      ]
     },
     "metadata": {},
     "output_type": "display_data"
    }
   ],
   "source": [
    "df_s['Year'].value_counts().plot.bar()"
   ]
  },
  {
   "cell_type": "code",
   "execution_count": 28,
   "id": "9a179c1c-ce15-40e7-a02c-ab72069800f0",
   "metadata": {},
   "outputs": [
    {
     "data": {
      "text/plain": [
       "<Axes: ylabel='Frequency'>"
      ]
     },
     "execution_count": 28,
     "metadata": {},
     "output_type": "execute_result"
    },
    {
     "data": {
      "image/png": "[encoded data removed]",
      "text/plain": [
       "<Figure size 640x480 with 1 Axes>"
      ]
     },
     "metadata": {},
     "output_type": "display_data"
    }
   ],
   "source": [
    "df_s['Value'].plot.hist(bins = 5)"
   ]
  },
  {
   "cell_type": "markdown",
   "id": "cbd13852-76d8-4272-9a52-e060f65c4fe5",
   "metadata": {},
   "source": [
    "## 4. Merging data"
   ]
  },
  {
   "cell_type": "code",
   "execution_count": 31,
   "id": "8fa87631-1e54-4451-b59e-28c95b9f15fa",
   "metadata": {},
   "outputs": [],
   "source": [
    "df_merge = df_mh.merge(df_s, on = 'Country', indicator = True)"
   ]
  },
  {
   "cell_type": "code",
   "execution_count": 34,
   "id": "c1e1e590-312c-4355-b2b2-9e46577377c8",
   "metadata": {},
   "outputs": [
    {
     "data": {
      "text/html": [
       "<div>\n",
       "<style scoped>\n",
       "    .dataframe tbody tr th:only-of-type {\n",
       "        vertical-align: middle;\n",
       "    }\n",
       "\n",
       "    .dataframe tbody tr th {\n",
       "        vertical-align: top;\n",
       "    }\n",
       "\n",
       "    .dataframe thead th {\n",
       "        text-align: right;\n",
       "    }\n",
       "</style>\n",
       "<table border=\"1\" class=\"dataframe\">\n",
       "  <thead>\n",
       "    <tr style=\"text-align: right;\">\n",
       "      <th></th>\n",
       "      <th>Id</th>\n",
       "      <th>Title Code</th>\n",
       "      <th>Title</th>\n",
       "      <th>Country</th>\n",
       "      <th>Year_x</th>\n",
       "      <th>Value_x</th>\n",
       "      <th>Data Collection Date_x</th>\n",
       "      <th>Title Code Suicide</th>\n",
       "      <th>Suicide rates</th>\n",
       "      <th>Location</th>\n",
       "      <th>Year_y</th>\n",
       "      <th>Gender</th>\n",
       "      <th>Value_y</th>\n",
       "      <th>Data Collection Date_y</th>\n",
       "      <th>_merge</th>\n",
       "    </tr>\n",
       "  </thead>\n",
       "  <tbody>\n",
       "    <tr>\n",
       "      <th>0</th>\n",
       "      <td>20738925</td>\n",
       "      <td>MH_6</td>\n",
       "      <td>Psychiatrists working in mental health sector ...</td>\n",
       "      <td>AFG</td>\n",
       "      <td>2016</td>\n",
       "      <td>0.231</td>\n",
       "      <td>2019-04-25T15:31:58Z</td>\n",
       "      <td>MH_12</td>\n",
       "      <td>Age-standardized suicide rates (per 100 000 po...</td>\n",
       "      <td>Afghanistan</td>\n",
       "      <td>2019</td>\n",
       "      <td>Female</td>\n",
       "      <td>5.67</td>\n",
       "      <td>2021-02-08T23:00:00.000Z</td>\n",
       "      <td>both</td>\n",
       "    </tr>\n",
       "  </tbody>\n",
       "</table>\n",
       "</div>"
      ],
      "text/plain": [
       "         Id Title Code                                              Title  \\\n",
       "0  20738925       MH_6  Psychiatrists working in mental health sector ...   \n",
       "\n",
       "  Country  Year_x  Value_x Data Collection Date_x Title Code Suicide  \\\n",
       "0     AFG    2016    0.231   2019-04-25T15:31:58Z              MH_12   \n",
       "\n",
       "                                       Suicide rates     Location  Year_y  \\\n",
       "0  Age-standardized suicide rates (per 100 000 po...  Afghanistan    2019   \n",
       "\n",
       "   Gender  Value_y    Data Collection Date_y _merge  \n",
       "0  Female     5.67  2021-02-08T23:00:00.000Z   both  "
      ]
     },
     "execution_count": 34,
     "metadata": {},
     "output_type": "execute_result"
    }
   ],
   "source": [
    "df_merge.head(1)"
   ]
  },
  {
   "cell_type": "markdown",
   "id": "8bac1665-0756-41d5-9f85-b6fef069d211",
   "metadata": {},
   "source": [
    "## 5. Exporting data frame"
   ]
  },
  {
   "cell_type": "code",
   "execution_count": 39,
   "id": "31b6b51d-7b30-4a1c-b890-fa1029e8f78c",
   "metadata": {},
   "outputs": [],
   "source": [
    "df_merge.to_pickle(os.path.join(path, '02 Data','Prepared Data', 'mh_s_combined.pkl'))"
   ]
  }
 ],
 "metadata": {
  "kernelspec": {
   "display_name": "Python 3 (ipykernel)",
   "language": "python",
   "name": "python3"
  },
  "language_info": {
   "codemirror_mode": {
    "name": "ipython",
    "version": 3
   },
   "file_extension": ".py",
   "mimetype": "text/x-python",
   "name": "python",
   "nbconvert_exporter": "python",
   "pygments_lexer": "ipython3",
   "version": "3.11.7"
  }
 },
 "nbformat": 4,
 "nbformat_minor": 5
}
